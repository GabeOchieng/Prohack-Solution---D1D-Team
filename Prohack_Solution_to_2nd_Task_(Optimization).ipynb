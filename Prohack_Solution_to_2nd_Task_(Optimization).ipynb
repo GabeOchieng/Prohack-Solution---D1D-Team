{
  "nbformat": 4,
  "nbformat_minor": 0,
  "metadata": {
    "colab": {
      "name": "Prohack: Solution to 2nd Task (Optimization).ipynb",
      "provenance": [],
      "collapsed_sections": []
    },
    "kernelspec": {
      "name": "python3",
      "display_name": "Python 3"
    }
  },
  "cells": [
    {
      "cell_type": "markdown",
      "metadata": {
        "id": "eOnyIES5Ko2H",
        "colab_type": "text"
      },
      "source": [
        "# Prohack: 2nd Task"
      ]
    },
    {
      "cell_type": "markdown",
      "metadata": {
        "id": "bBgZqL9_KtSG",
        "colab_type": "text"
      },
      "source": [
        "We had to allocate energy for Galaxies knowing that : \n",
        "* Every galaxy has a certain limited potential for improvement in the index described by the following function: Potential for increase in the Index = -np.log(Index+0.01)+3 \n",
        "* Likely index increase dependent on potential for improvement and on extra energy availability is described by the following function: Likely increase in the Index = extra energy * Potential for increase in the Index **2 / 1000\n",
        "* **There are several constraints:**\n",
        "  * In total there are 50000 zillion DSML available for allocation.\n",
        "  * No galaxy should be allocated more than 100 zillion DSML or less than 0 zillion DSML .\n",
        "  * galaxies with low existence expectancy index below 0.7 should be allocated at least 10% of the total energy available.\n",
        "\n",
        "\n",
        "\n",
        "\n",
        "\n"
      ]
    },
    {
      "cell_type": "markdown",
      "metadata": {
        "id": "v0Lb59iAIkTT",
        "colab_type": "text"
      },
      "source": [
        "#Importing the preds"
      ]
    },
    {
      "cell_type": "code",
      "metadata": {
        "id": "xKrHL_oM6sPW",
        "colab_type": "code",
        "colab": {}
      },
      "source": [
        "import pandas as pd\n",
        "import numpy as np\n",
        "import matplotlib.pyplot as plt"
      ],
      "execution_count": null,
      "outputs": []
    },
    {
      "cell_type": "code",
      "metadata": {
        "id": "sM6aRI866ykq",
        "colab_type": "code",
        "colab": {}
      },
      "source": [
        "ss=pd.read_csv('new_preds.csv')"
      ],
      "execution_count": null,
      "outputs": []
    },
    {
      "cell_type": "markdown",
      "metadata": {
        "id": "R0AMd3QE7Gxw",
        "colab_type": "text"
      },
      "source": [
        "**Defining the Potential Increase and Likely Increase in the index** "
      ]
    },
    {
      "cell_type": "code",
      "metadata": {
        "id": "QwrwH6Ys7V9W",
        "colab_type": "code",
        "colab": {}
      },
      "source": [
        "#The index represent the y_pred \n",
        "index = ss['pred']\n",
        "pot_inc = -np.log(index+0.01)+3\n",
        "p2= pot_inc**2\n",
        "ss[\"p2\"] = p2"
      ],
      "execution_count": null,
      "outputs": []
    },
    {
      "cell_type": "code",
      "metadata": {
        "id": "asblBcxr8TCf",
        "colab_type": "code",
        "colab": {}
      },
      "source": [
        "#Sorting using Likelyincreasing index\n",
        "ss=ss.sort_values('p2',ascending=False)\n",
        "#Droping The old index \n",
        "ss=ss.reset_index(drop=True)"
      ],
      "execution_count": null,
      "outputs": []
    },
    {
      "cell_type": "code",
      "metadata": {
        "id": "eO0P2moWBFAN",
        "colab_type": "code",
        "colab": {
          "base_uri": "https://localhost:8080/",
          "height": 402
        },
        "outputId": "791a9b3b-7604-4927-a7ab-9ba4293de3f7"
      },
      "source": [
        "ss"
      ],
      "execution_count": null,
      "outputs": [
        {
          "output_type": "execute_result",
          "data": {
            "text/html": [
              "<div>\n",
              "<style scoped>\n",
              "    .dataframe tbody tr th:only-of-type {\n",
              "        vertical-align: middle;\n",
              "    }\n",
              "\n",
              "    .dataframe tbody tr th {\n",
              "        vertical-align: top;\n",
              "    }\n",
              "\n",
              "    .dataframe thead th {\n",
              "        text-align: right;\n",
              "    }\n",
              "</style>\n",
              "<table border=\"1\" class=\"dataframe\">\n",
              "  <thead>\n",
              "    <tr style=\"text-align: right;\">\n",
              "      <th></th>\n",
              "      <th>Index</th>\n",
              "      <th>pred</th>\n",
              "      <th>opt_pred</th>\n",
              "      <th>eei</th>\n",
              "      <th>p2</th>\n",
              "    </tr>\n",
              "  </thead>\n",
              "  <tbody>\n",
              "    <tr>\n",
              "      <th>0</th>\n",
              "      <td>49</td>\n",
              "      <td>0.017404</td>\n",
              "      <td>0</td>\n",
              "      <td>0.671839</td>\n",
              "      <td>43.521325</td>\n",
              "    </tr>\n",
              "    <tr>\n",
              "      <th>1</th>\n",
              "      <td>228</td>\n",
              "      <td>0.018274</td>\n",
              "      <td>0</td>\n",
              "      <td>0.837479</td>\n",
              "      <td>43.109723</td>\n",
              "    </tr>\n",
              "    <tr>\n",
              "      <th>2</th>\n",
              "      <td>138</td>\n",
              "      <td>0.018336</td>\n",
              "      <td>0</td>\n",
              "      <td>0.775467</td>\n",
              "      <td>43.081108</td>\n",
              "    </tr>\n",
              "    <tr>\n",
              "      <th>3</th>\n",
              "      <td>186</td>\n",
              "      <td>0.018623</td>\n",
              "      <td>0</td>\n",
              "      <td>0.806444</td>\n",
              "      <td>42.948887</td>\n",
              "    </tr>\n",
              "    <tr>\n",
              "      <th>4</th>\n",
              "      <td>201</td>\n",
              "      <td>0.018673</td>\n",
              "      <td>0</td>\n",
              "      <td>0.816966</td>\n",
              "      <td>42.925849</td>\n",
              "    </tr>\n",
              "    <tr>\n",
              "      <th>...</th>\n",
              "      <td>...</td>\n",
              "      <td>...</td>\n",
              "      <td>...</td>\n",
              "      <td>...</td>\n",
              "      <td>...</td>\n",
              "    </tr>\n",
              "    <tr>\n",
              "      <th>885</th>\n",
              "      <td>800</td>\n",
              "      <td>0.443243</td>\n",
              "      <td>0</td>\n",
              "      <td>1.085557</td>\n",
              "      <td>14.374152</td>\n",
              "    </tr>\n",
              "    <tr>\n",
              "      <th>886</th>\n",
              "      <td>801</td>\n",
              "      <td>0.443628</td>\n",
              "      <td>0</td>\n",
              "      <td>1.086098</td>\n",
              "      <td>14.367718</td>\n",
              "    </tr>\n",
              "    <tr>\n",
              "      <th>887</th>\n",
              "      <td>705</td>\n",
              "      <td>0.446518</td>\n",
              "      <td>0</td>\n",
              "      <td>1.038657</td>\n",
              "      <td>14.319613</td>\n",
              "    </tr>\n",
              "    <tr>\n",
              "      <th>888</th>\n",
              "      <td>583</td>\n",
              "      <td>0.470094</td>\n",
              "      <td>0</td>\n",
              "      <td>0.996074</td>\n",
              "      <td>13.941070</td>\n",
              "    </tr>\n",
              "    <tr>\n",
              "      <th>889</th>\n",
              "      <td>730</td>\n",
              "      <td>0.488002</td>\n",
              "      <td>0</td>\n",
              "      <td>1.051112</td>\n",
              "      <td>13.668922</td>\n",
              "    </tr>\n",
              "  </tbody>\n",
              "</table>\n",
              "<p>890 rows × 5 columns</p>\n",
              "</div>"
            ],
            "text/plain": [
              "     Index      pred  opt_pred       eei         p2\n",
              "0       49  0.017404         0  0.671839  43.521325\n",
              "1      228  0.018274         0  0.837479  43.109723\n",
              "2      138  0.018336         0  0.775467  43.081108\n",
              "3      186  0.018623         0  0.806444  42.948887\n",
              "4      201  0.018673         0  0.816966  42.925849\n",
              "..     ...       ...       ...       ...        ...\n",
              "885    800  0.443243         0  1.085557  14.374152\n",
              "886    801  0.443628         0  1.086098  14.367718\n",
              "887    705  0.446518         0  1.038657  14.319613\n",
              "888    583  0.470094         0  0.996074  13.941070\n",
              "889    730  0.488002         0  1.051112  13.668922\n",
              "\n",
              "[890 rows x 5 columns]"
            ]
          },
          "metadata": {
            "tags": []
          },
          "execution_count": 75
        }
      ]
    },
    {
      "cell_type": "markdown",
      "metadata": {
        "id": "uKZiCv3zIs8l",
        "colab_type": "text"
      },
      "source": [
        "# Optimisation"
      ]
    },
    {
      "cell_type": "markdown",
      "metadata": {
        "id": "4abcAu2Q75Lt",
        "colab_type": "text"
      },
      "source": [
        "We'll start talking about our optimisation, which might not be the best approach since we believe that it overfitted the public LB: \n",
        "* We've noticed that giving max energy (100 Zillion DSML) for the first 400 rows would give a good score because there's a huge drop in the values of  y_preds, as we've seen in the 1st notebook, *y is highly skewed*\n",
        "* Then we started decreasing linearly (and the overfitting started here )\n",
        "* We took random decreasing steps and random intervals and we were trying to maximize the sum of galaxies with low existence expectancy index below 0.7 because we knew that it had to be more than 5000 Zillion DSML.\n",
        "\n",
        "These points have been taken empicially and through intuition mostly by analyzing the y. Taking different points would result in choosing different slopes for the linear decrease.\n",
        "\n",
        "**How to find these slopes ?**\n",
        "\n",
        "You need to pick some points and compute a given slope between each two points while checking the sum of allocated energy in order to make it equal or almost equal to 50000 units.\n",
        "\n",
        "\n"
      ]
    },
    {
      "cell_type": "markdown",
      "metadata": {
        "id": "PLcSAwb9K3ty",
        "colab_type": "text"
      },
      "source": [
        "**Linear Programming**\n",
        "* We've tried solving this optimisation task using scipy.optimize using constraints and objective function but we got a better score while using the idea of decreasing linearly, so we didn't focus on it ."
      ]
    },
    {
      "cell_type": "markdown",
      "metadata": {
        "id": "jHNtp0AdMCea",
        "colab_type": "text"
      },
      "source": [
        "**Analyzing the y_preds**"
      ]
    },
    {
      "cell_type": "code",
      "metadata": {
        "id": "jQKIIzDs99LY",
        "colab_type": "code",
        "colab": {
          "base_uri": "https://localhost:8080/",
          "height": 616
        },
        "outputId": "079aa19c-bfe7-4751-b640-838b624d4f0f"
      },
      "source": [
        "y_pred=ss.pred\n",
        "x = np.arange(y_pred.min(),y_pred.max(),0.01)\n",
        "plt.figure(figsize=(25,10))\n",
        "plt.hist(y_pred,bins=x)\n",
        "plt.title('Y_pred Histogram',fontsize=20)\n",
        "plt.xlabel('y_pred',fontsize=15)\n",
        "plt.ylabel('Count',fontsize=15)\n",
        "plt.xticks(x)\n",
        "plt.show()"
      ],
      "execution_count": null,
      "outputs": [
        {
          "output_type": "display_data",
          "data": {
            "image/png": "[encoded data removed]",
            "text/plain": [
              "<Figure size 1800x720 with 1 Axes>"
            ]
          },
          "metadata": {
            "tags": [],
            "needs_background": "light"
          }
        }
      ]
    },
    {
      "cell_type": "code",
      "metadata": {
        "id": "WBBbkid5-uXi",
        "colab_type": "code",
        "colab": {
          "base_uri": "https://localhost:8080/",
          "height": 202
        },
        "outputId": "760c9e0c-f5f7-4c72-db36-3a0648ce9580"
      },
      "source": [
        "\n",
        "n = 340\n",
        "#Giving the max of Energy to the 340 first element (ordered using the likely Increasing Index)\n",
        "ss.opt_pred[:n]=100\n",
        "ss.opt_pred[n:] = 0\n",
        "c=100\n",
        "alpha = 0.62685\n",
        "for i in range(n,374):\n",
        "  if c>=alpha: \n",
        "    c=c-alpha\n",
        "    ss.loc[i,'opt_pred'] =c\n",
        "alpha=0.067345\n",
        "for i in range(374,455):\n",
        "  if c>=alpha: \n",
        "    c=c-alpha\n",
        "    ss.loc[i,'opt_pred'] =c\n",
        "  else:\n",
        "    ss.loc[i,'opt_pred'] = 0\n",
        "alpha = 0.03\n",
        "for i in range(455,465):\n",
        "  if c>=alpha: \n",
        "    c=c-alpha\n",
        "    ss.loc[i,'opt_pred'] =c\n",
        "alpha=0.4339465\n",
        "for i in range(465,890):\n",
        "  if c>=alpha: \n",
        "    c=c-alpha\n",
        "    ss.loc[i,'opt_pred'] =c\n",
        "  else:\n",
        "    ss.loc[i,'opt_pred'] = 0\n",
        "\n",
        "print(ss.opt_pred.sum())"
      ],
      "execution_count": null,
      "outputs": [
        {
          "output_type": "stream",
          "text": [
            "49999.995680999906\n"
          ],
          "name": "stdout"
        },
        {
          "output_type": "stream",
          "text": [
            "/usr/local/lib/python3.6/dist-packages/ipykernel_launcher.py:4: SettingWithCopyWarning: \n",
            "A value is trying to be set on a copy of a slice from a DataFrame\n",
            "\n",
            "See the caveats in the documentation: https://pandas.pydata.org/pandas-docs/stable/user_guide/indexing.html#returning-a-view-versus-a-copy\n",
            "  after removing the cwd from sys.path.\n",
            "/usr/local/lib/python3.6/dist-packages/ipykernel_launcher.py:5: SettingWithCopyWarning: \n",
            "A value is trying to be set on a copy of a slice from a DataFrame\n",
            "\n",
            "See the caveats in the documentation: https://pandas.pydata.org/pandas-docs/stable/user_guide/indexing.html#returning-a-view-versus-a-copy\n",
            "  \"\"\"\n"
          ],
          "name": "stderr"
        }
      ]
    },
    {
      "cell_type": "code",
      "metadata": {
        "id": "Q17VLWKp9vtp",
        "colab_type": "code",
        "colab": {
          "base_uri": "https://localhost:8080/",
          "height": 67
        },
        "outputId": "2a579fd9-d131-4718-f8f1-6727169a87a3"
      },
      "source": [
        "#Checking if the sum of opt_pred in rows having eei<0.7 is >5000\n",
        "print(\"sum\",ss.opt_pred.sum())\n",
        "print(\"left\", (50000-ss.opt_pred.sum())) \n",
        "print(\"eei Sum\",ss[ss.eei<0.7]['opt_pred'].sum())"
      ],
      "execution_count": null,
      "outputs": [
        {
          "output_type": "stream",
          "text": [
            "sum 49999.995680999906\n",
            "left 0.004319000094255898\n",
            "eei Sum 6520.424461499999\n"
          ],
          "name": "stdout"
        }
      ]
    },
    {
      "cell_type": "code",
      "metadata": {
        "id": "QHS0cOYN96u8",
        "colab_type": "code",
        "colab": {
          "base_uri": "https://localhost:8080/",
          "height": 265
        },
        "outputId": "31e529e1-354d-4f4e-a4f0-056a97996681"
      },
      "source": [
        "# Plot opt pred vs y\n",
        "plt.plot(ss.pred)\n",
        "plt.plot(ss.opt_pred/100,color=\"red\")\n",
        "plt.show()"
      ],
      "execution_count": null,
      "outputs": [
        {
          "output_type": "display_data",
          "data": {
            "image/png": "[encoded data removed]",
            "text/plain": [
              "<Figure size 432x288 with 1 Axes>"
            ]
          },
          "metadata": {
            "tags": [],
            "needs_background": "light"
          }
        }
      ]
    },
    {
      "cell_type": "markdown",
      "metadata": {
        "id": "BNl_PinY-aMU",
        "colab_type": "text"
      },
      "source": [
        "## The new untested optimisation"
      ]
    },
    {
      "cell_type": "markdown",
      "metadata": {
        "id": "judJsZLL7jji",
        "colab_type": "text"
      },
      "source": [
        "15 Minutes before the deadline, we knew that we overfitted the optimisation.\n",
        "We figured out a method to decreases the overfitting but unfortunately we couldn't test it."
      ]
    },
    {
      "cell_type": "markdown",
      "metadata": {
        "id": "P731j7R8_HDw",
        "colab_type": "text"
      },
      "source": [
        "The main idea is making a step that depends on the difference in the index between each two lines (we could use likely Increasing Index too) ."
      ]
    },
    {
      "cell_type": "code",
      "metadata": {
        "id": "WDexcSrGw1cA",
        "colab_type": "code",
        "colab": {
          "base_uri": "https://localhost:8080/",
          "height": 202
        },
        "outputId": "745df206-ccb0-477a-8b2e-c065c68ebe0c"
      },
      "source": [
        "#We aren't so sure that allocating 100 Zillion DSML to the 340 first rows is optimal  \n",
        "ss.opt_pred=0\n",
        "n = 340\n",
        "ss.opt_pred[:n]=100\n",
        "ss.opt_pred[n:] = 0\n",
        "c=100\n",
        "#This is a simple test we could add more steps or maybe changing these one\n",
        "for i in range(n,890):\n",
        "  if ss.pred[i]-ss.pred[i-1]<4*10**(-6):\n",
        "    alpha=0.13\n",
        "  if ss.pred[i]-ss.pred[i-1]>=4*10**(-6) and ss.pred[i]-ss.pred[i-1]<4*10**(-5):\n",
        "    alpha=0.21222895\n",
        "  if ss.pred[i]-ss.pred[i-1]>=4*10**(-5) and ss.pred[i]-ss.pred[i-1]<10**(-4):\n",
        "    alpha=0.33\n",
        "  if ss.pred[i]-ss.pred[i-1]>=10**(-4) and ss.pred[i]-ss.pred[i-1]<5*10**(-3) :\n",
        "    alpha=0.48\n",
        "  if ss.pred[i]-ss.pred[i-1]>=5*10**(-3) and ss.pred[i]-ss.pred[i-1]<10**(-3):\n",
        "    alpha=0.58\n",
        "  if ss.pred[i]-ss.pred[i-1]>=10**(-3):\n",
        "    alpha=0.73\n",
        "  c-=alpha\n",
        "  if c-alpha>0:\n",
        "    ss.loc[i,'opt_pred'] =c\n",
        "  else:\n",
        "    ss.loc[i,'opt_pred'] =0\n",
        "\n",
        "print(ss.opt_pred.sum())"
      ],
      "execution_count": null,
      "outputs": [
        {
          "output_type": "stream",
          "text": [
            "/usr/local/lib/python3.6/dist-packages/ipykernel_launcher.py:4: SettingWithCopyWarning: \n",
            "A value is trying to be set on a copy of a slice from a DataFrame\n",
            "\n",
            "See the caveats in the documentation: https://pandas.pydata.org/pandas-docs/stable/user_guide/indexing.html#returning-a-view-versus-a-copy\n",
            "  after removing the cwd from sys.path.\n",
            "/usr/local/lib/python3.6/dist-packages/ipykernel_launcher.py:5: SettingWithCopyWarning: \n",
            "A value is trying to be set on a copy of a slice from a DataFrame\n",
            "\n",
            "See the caveats in the documentation: https://pandas.pydata.org/pandas-docs/stable/user_guide/indexing.html#returning-a-view-versus-a-copy\n",
            "  \"\"\"\n"
          ],
          "name": "stderr"
        },
        {
          "output_type": "stream",
          "text": [
            "49999.999927200086\n"
          ],
          "name": "stdout"
        }
      ]
    },
    {
      "cell_type": "code",
      "metadata": {
        "id": "jszq6xGT_0F3",
        "colab_type": "code",
        "colab": {
          "base_uri": "https://localhost:8080/",
          "height": 67
        },
        "outputId": "dbf92b5b-4f64-40ae-c640-e9025cbf9575"
      },
      "source": [
        "#Checking if the sum of opt_pred in rows having eei<0.7 is >5000\n",
        "print(\"sum\",ss.opt_pred.sum())\n",
        "print(\"left\", (50000-ss.opt_pred.sum()))\n",
        "print(\"eei\",ss[ss.eei<0.7]['opt_pred'].sum())"
      ],
      "execution_count": null,
      "outputs": [
        {
          "output_type": "stream",
          "text": [
            "sum 49999.999927200086\n",
            "left 7.279991405084729e-05\n",
            "eei 6542.4094493500015\n"
          ],
          "name": "stdout"
        }
      ]
    },
    {
      "cell_type": "code",
      "metadata": {
        "id": "kbtD897Fj3tc",
        "colab_type": "code",
        "colab": {
          "base_uri": "https://localhost:8080/",
          "height": 265
        },
        "outputId": "448eceb1-92af-47f3-b161-118caefdd9a1"
      },
      "source": [
        "plt.plot(ss.pred)\n",
        "plt.plot(ss.opt_pred/100,color=\"red\")\n",
        "plt.show()"
      ],
      "execution_count": null,
      "outputs": [
        {
          "output_type": "display_data",
          "data": {
            "image/png": "[encoded data removed]",
            "text/plain": [
              "<Figure size 432x288 with 1 Axes>"
            ]
          },
          "metadata": {
            "tags": [],
            "needs_background": "light"
          }
        }
      ]
    },
    {
      "cell_type": "markdown",
      "metadata": {
        "id": "mSIBQCGGIykD",
        "colab_type": "text"
      },
      "source": [
        "#Submiting the result"
      ]
    },
    {
      "cell_type": "code",
      "metadata": {
        "id": "T68NiOFJ9t1b",
        "colab_type": "code",
        "colab": {}
      },
      "source": [
        "#Reordering the list using the real index\n",
        "ss=ss.sort_values('Index',ascending=True)\n",
        "ss=ss.reset_index(drop=True)"
      ],
      "execution_count": null,
      "outputs": []
    },
    {
      "cell_type": "code",
      "metadata": {
        "id": "NVdgjh37A5Zx",
        "colab_type": "code",
        "colab": {}
      },
      "source": [
        "ss[['Index', 'pred', 'opt_pred']].to_csv('sub.csv', index=False)"
      ],
      "execution_count": null,
      "outputs": []
    }
  ]
}